{
 "cells": [
  {
   "cell_type": "markdown",
   "id": "12f17264",
   "metadata": {},
   "source": [
    "# Inbuilt Modules"
   ]
  },
  {
   "cell_type": "code",
   "execution_count": 1,
   "id": "2034ac81",
   "metadata": {},
   "outputs": [],
   "source": [
    "import math"
   ]
  },
  {
   "cell_type": "code",
   "execution_count": 2,
   "id": "f5b2dddd",
   "metadata": {},
   "outputs": [
    {
     "data": {
      "text/plain": [
       "120"
      ]
     },
     "execution_count": 2,
     "metadata": {},
     "output_type": "execute_result"
    }
   ],
   "source": [
    "math.factorial(5)"
   ]
  },
  {
   "cell_type": "code",
   "execution_count": 3,
   "id": "321a20f2",
   "metadata": {},
   "outputs": [
    {
     "data": {
      "text/plain": [
       "32.0"
      ]
     },
     "execution_count": 3,
     "metadata": {},
     "output_type": "execute_result"
    }
   ],
   "source": [
    "math.pow(2, 5)"
   ]
  },
  {
   "cell_type": "code",
   "execution_count": 4,
   "id": "d1cfaa32",
   "metadata": {},
   "outputs": [
    {
     "data": {
      "text/plain": [
       "5"
      ]
     },
     "execution_count": 4,
     "metadata": {},
     "output_type": "execute_result"
    }
   ],
   "source": [
    "math.ceil(4.3)"
   ]
  },
  {
   "cell_type": "code",
   "execution_count": 5,
   "id": "82f006a9",
   "metadata": {},
   "outputs": [],
   "source": [
    "# math.perm()"
   ]
  },
  {
   "cell_type": "code",
   "execution_count": 6,
   "id": "7f599e5e",
   "metadata": {},
   "outputs": [],
   "source": [
    "# math.comb()"
   ]
  },
  {
   "cell_type": "code",
   "execution_count": 8,
   "id": "722b08f5",
   "metadata": {},
   "outputs": [
    {
     "name": "stdout",
     "output_type": "stream",
     "text": [
      "['__doc__', '__file__', '__loader__', '__name__', '__package__', '__spec__', 'acos', 'acosh', 'asin', 'asinh', 'atan', 'atan2', 'atanh', 'ceil', 'comb', 'copysign', 'cos', 'cosh', 'degrees', 'dist', 'e', 'erf', 'erfc', 'exp', 'expm1', 'fabs', 'factorial', 'floor', 'fmod', 'frexp', 'fsum', 'gamma', 'gcd', 'hypot', 'inf', 'isclose', 'isfinite', 'isinf', 'isnan', 'isqrt', 'ldexp', 'lgamma', 'log', 'log10', 'log1p', 'log2', 'modf', 'nan', 'perm', 'pi', 'pow', 'prod', 'radians', 'remainder', 'sin', 'sinh', 'sqrt', 'tan', 'tanh', 'tau', 'trunc']\n"
     ]
    }
   ],
   "source": [
    "print(dir(math))"
   ]
  },
  {
   "cell_type": "code",
   "execution_count": null,
   "id": "4946184e",
   "metadata": {},
   "outputs": [],
   "source": []
  },
  {
   "cell_type": "code",
   "execution_count": 12,
   "id": "9553ba66",
   "metadata": {},
   "outputs": [
    {
     "data": {
      "text/plain": [
       "-inf"
      ]
     },
     "execution_count": 12,
     "metadata": {},
     "output_type": "execute_result"
    }
   ],
   "source": [
    "a = float('-inf')\n",
    "a"
   ]
  },
  {
   "cell_type": "code",
   "execution_count": null,
   "id": "3154aca4",
   "metadata": {},
   "outputs": [],
   "source": []
  },
  {
   "cell_type": "markdown",
   "id": "13ae601e",
   "metadata": {},
   "source": [
    "### Random"
   ]
  },
  {
   "cell_type": "code",
   "execution_count": 1,
   "id": "94011e67",
   "metadata": {},
   "outputs": [],
   "source": [
    "import random"
   ]
  },
  {
   "cell_type": "code",
   "execution_count": 16,
   "id": "ac17dbee",
   "metadata": {},
   "outputs": [],
   "source": [
    "# help(random)"
   ]
  },
  {
   "cell_type": "code",
   "execution_count": 105,
   "id": "c91ea114",
   "metadata": {},
   "outputs": [
    {
     "name": "stdout",
     "output_type": "stream",
     "text": [
      "120\n"
     ]
    }
   ],
   "source": [
    "from math import factorial\n",
    "print(factorial(5))"
   ]
  },
  {
   "cell_type": "code",
   "execution_count": 42,
   "id": "5b3b611b",
   "metadata": {},
   "outputs": [
    {
     "data": {
      "text/plain": [
       "2"
      ]
     },
     "execution_count": 42,
     "metadata": {},
     "output_type": "execute_result"
    }
   ],
   "source": [
    "random.randint(2, 15)"
   ]
  },
  {
   "cell_type": "code",
   "execution_count": 50,
   "id": "56625c08",
   "metadata": {},
   "outputs": [
    {
     "data": {
      "text/plain": [
       "0.7102228083825483"
      ]
     },
     "execution_count": 50,
     "metadata": {},
     "output_type": "execute_result"
    }
   ],
   "source": [
    "random.random()"
   ]
  },
  {
   "cell_type": "code",
   "execution_count": 51,
   "id": "98d392a6",
   "metadata": {},
   "outputs": [],
   "source": [
    "subjects = ['CS', 'Physics', 'Maths', 'Stats', 'Politics']"
   ]
  },
  {
   "cell_type": "code",
   "execution_count": 91,
   "id": "6eb3a5d4",
   "metadata": {},
   "outputs": [
    {
     "data": {
      "text/plain": [
       "'Physics'"
      ]
     },
     "execution_count": 91,
     "metadata": {},
     "output_type": "execute_result"
    }
   ],
   "source": [
    "idx = random.randint(0,len(subjects)-1)\n",
    "subjects[idx]"
   ]
  },
  {
   "cell_type": "code",
   "execution_count": 96,
   "id": "5a589f75",
   "metadata": {},
   "outputs": [
    {
     "data": {
      "text/plain": [
       "'CS'"
      ]
     },
     "execution_count": 96,
     "metadata": {},
     "output_type": "execute_result"
    }
   ],
   "source": [
    "random.choice(subjects)"
   ]
  },
  {
   "cell_type": "code",
   "execution_count": 107,
   "id": "37cdd4b8",
   "metadata": {},
   "outputs": [],
   "source": [
    "result = random.choices(subjects, k = 1000)"
   ]
  },
  {
   "cell_type": "code",
   "execution_count": 108,
   "id": "f6e98c07",
   "metadata": {},
   "outputs": [
    {
     "data": {
      "text/plain": [
       "211"
      ]
     },
     "execution_count": 108,
     "metadata": {},
     "output_type": "execute_result"
    }
   ],
   "source": [
    "result.count('CS')"
   ]
  },
  {
   "cell_type": "code",
   "execution_count": 109,
   "id": "29ece0ce",
   "metadata": {},
   "outputs": [
    {
     "data": {
      "text/plain": [
       "208"
      ]
     },
     "execution_count": 109,
     "metadata": {},
     "output_type": "execute_result"
    }
   ],
   "source": [
    "result.count('Stats')"
   ]
  },
  {
   "cell_type": "code",
   "execution_count": null,
   "id": "93c124cb",
   "metadata": {},
   "outputs": [],
   "source": []
  },
  {
   "cell_type": "code",
   "execution_count": 124,
   "id": "0ea7c4de",
   "metadata": {},
   "outputs": [],
   "source": [
    "random.seed(5)"
   ]
  },
  {
   "cell_type": "code",
   "execution_count": 130,
   "id": "54e12e19",
   "metadata": {},
   "outputs": [
    {
     "data": {
      "text/plain": [
       "8"
      ]
     },
     "execution_count": 130,
     "metadata": {},
     "output_type": "execute_result"
    }
   ],
   "source": [
    "random.randint(1, 10)"
   ]
  },
  {
   "cell_type": "code",
   "execution_count": 147,
   "id": "1f12e148",
   "metadata": {},
   "outputs": [],
   "source": [
    "random.seed(31)"
   ]
  },
  {
   "cell_type": "code",
   "execution_count": 159,
   "id": "7fbea458",
   "metadata": {},
   "outputs": [
    {
     "data": {
      "text/plain": [
       "3"
      ]
     },
     "execution_count": 159,
     "metadata": {},
     "output_type": "execute_result"
    }
   ],
   "source": [
    "random.randint(1, 10)"
   ]
  },
  {
   "cell_type": "code",
   "execution_count": null,
   "id": "f4a6ef54",
   "metadata": {},
   "outputs": [],
   "source": []
  },
  {
   "cell_type": "markdown",
   "id": "a04a1c76",
   "metadata": {},
   "source": [
    "### OS"
   ]
  },
  {
   "cell_type": "code",
   "execution_count": 161,
   "id": "5d952ae4",
   "metadata": {},
   "outputs": [],
   "source": [
    "import os"
   ]
  },
  {
   "cell_type": "code",
   "execution_count": 163,
   "id": "06d51b17",
   "metadata": {},
   "outputs": [
    {
     "data": {
      "text/plain": [
       "'/Users/mohit/Documents/Scaler/Batches/Sept22 Interm/Modules-Exception'"
      ]
     },
     "execution_count": 163,
     "metadata": {},
     "output_type": "execute_result"
    }
   ],
   "source": [
    "os.getcwd()"
   ]
  },
  {
   "cell_type": "code",
   "execution_count": 164,
   "id": "3dc9b790",
   "metadata": {},
   "outputs": [
    {
     "data": {
      "text/plain": [
       "['Modules.ipynb', '.ipynb_checkpoints']"
      ]
     },
     "execution_count": 164,
     "metadata": {},
     "output_type": "execute_result"
    }
   ],
   "source": [
    "os.listdir()"
   ]
  },
  {
   "cell_type": "code",
   "execution_count": 167,
   "id": "d4d789f3",
   "metadata": {},
   "outputs": [
    {
     "data": {
      "text/plain": [
       "['.DS_Store',\n",
       " 'Doubts-2.ipynb',\n",
       " 'Time-Complexity|Sorting.ipynb',\n",
       " 'Coordinate-Geometry.ipynb',\n",
       " 'Modules-Exception',\n",
       " 'Problem-Solving.ipynb',\n",
       " 'Doubts-1.ipynb',\n",
       " 'Recursion-02.ipynb',\n",
       " 'Searching.ipynb',\n",
       " 'File-Handling',\n",
       " 'Python-Builtin-DataStructures-List.ipynb',\n",
       " 'Recursion.ipynb',\n",
       " 'OOPs-1.ipynb',\n",
       " 'Problem-Solving-1.ipynb',\n",
       " 'Functional-Programming-01.ipynb',\n",
       " 'Sorting-2.ipynb',\n",
       " 'Python-refresher-1.ipynb',\n",
       " '.ipynb_checkpoints',\n",
       " 'OOPs-2.ipynb',\n",
       " 'Functional-Programming-02.ipynb',\n",
       " 'Python-refresher-03.ipynb']"
      ]
     },
     "execution_count": 167,
     "metadata": {},
     "output_type": "execute_result"
    }
   ],
   "source": [
    "result = os.listdir('/Users/mohit/Documents/Scaler/Batches/Sept22 Interm')\n",
    "result"
   ]
  },
  {
   "cell_type": "code",
   "execution_count": 169,
   "id": "04259696",
   "metadata": {},
   "outputs": [
    {
     "data": {
      "text/plain": [
       "True"
      ]
     },
     "execution_count": 169,
     "metadata": {},
     "output_type": "execute_result"
    }
   ],
   "source": [
    "result[2].endswith('ipynb')"
   ]
  },
  {
   "cell_type": "code",
   "execution_count": 171,
   "id": "ec6e02bb",
   "metadata": {},
   "outputs": [
    {
     "data": {
      "text/plain": [
       "['Doubts-2.ipynb',\n",
       " 'Time-Complexity|Sorting.ipynb',\n",
       " 'Coordinate-Geometry.ipynb',\n",
       " 'Problem-Solving.ipynb',\n",
       " 'Doubts-1.ipynb',\n",
       " 'Recursion-02.ipynb',\n",
       " 'Searching.ipynb',\n",
       " 'Python-Builtin-DataStructures-List.ipynb',\n",
       " 'Recursion.ipynb',\n",
       " 'OOPs-1.ipynb',\n",
       " 'Problem-Solving-1.ipynb',\n",
       " 'Functional-Programming-01.ipynb',\n",
       " 'Sorting-2.ipynb',\n",
       " 'Python-refresher-1.ipynb',\n",
       " 'OOPs-2.ipynb',\n",
       " 'Functional-Programming-02.ipynb',\n",
       " 'Python-refresher-03.ipynb']"
      ]
     },
     "execution_count": 171,
     "metadata": {},
     "output_type": "execute_result"
    }
   ],
   "source": [
    "list(filter(lambda x: x.endswith('.ipynb'), result ))"
   ]
  },
  {
   "cell_type": "code",
   "execution_count": null,
   "id": "bb2f9ca4",
   "metadata": {},
   "outputs": [],
   "source": []
  },
  {
   "cell_type": "code",
   "execution_count": 172,
   "id": "907d2dcd",
   "metadata": {},
   "outputs": [],
   "source": [
    "with open('issues.py', 'w') as f:\n",
    "    pass"
   ]
  },
  {
   "cell_type": "code",
   "execution_count": 175,
   "id": "59168313",
   "metadata": {},
   "outputs": [],
   "source": [
    "# removing a file.\n",
    "os.remove('issues.py')"
   ]
  },
  {
   "cell_type": "code",
   "execution_count": 176,
   "id": "3bccfb86",
   "metadata": {},
   "outputs": [],
   "source": [
    "os.mkdir('dataset')"
   ]
  },
  {
   "cell_type": "code",
   "execution_count": 177,
   "id": "627be89b",
   "metadata": {},
   "outputs": [],
   "source": [
    "os.mkdir('images')"
   ]
  },
  {
   "cell_type": "code",
   "execution_count": 178,
   "id": "ab460119",
   "metadata": {},
   "outputs": [],
   "source": [
    "os.mkdir('dataset/images')"
   ]
  },
  {
   "cell_type": "code",
   "execution_count": 179,
   "id": "ed26c73e",
   "metadata": {},
   "outputs": [],
   "source": [
    "os.rmdir('images/')"
   ]
  },
  {
   "cell_type": "code",
   "execution_count": null,
   "id": "2c94a559",
   "metadata": {},
   "outputs": [],
   "source": []
  },
  {
   "cell_type": "code",
   "execution_count": 180,
   "id": "3b539363",
   "metadata": {},
   "outputs": [],
   "source": [
    "# import "
   ]
  },
  {
   "cell_type": "code",
   "execution_count": null,
   "id": "7893c3a7",
   "metadata": {},
   "outputs": [],
   "source": []
  },
  {
   "cell_type": "code",
   "execution_count": 1,
   "id": "aaaa4f6b",
   "metadata": {},
   "outputs": [
    {
     "name": "stdout",
     "output_type": "stream",
     "text": [
      "Hello from Pretty module.!!!\n"
     ]
    }
   ],
   "source": [
    "# Custom module\n",
    "\n",
    "import pretty"
   ]
  },
  {
   "cell_type": "code",
   "execution_count": 2,
   "id": "335ab0b4",
   "metadata": {},
   "outputs": [
    {
     "ename": "NameError",
     "evalue": "name 'greeter' is not defined",
     "output_type": "error",
     "traceback": [
      "\u001b[0;31m---------------------------------------------------------------------------\u001b[0m",
      "\u001b[0;31mNameError\u001b[0m                                 Traceback (most recent call last)",
      "\u001b[0;32m<ipython-input-2-e867a369e125>\u001b[0m in \u001b[0;36m<module>\u001b[0;34m\u001b[0m\n\u001b[0;32m----> 1\u001b[0;31m \u001b[0mgreeter\u001b[0m\u001b[0;34m(\u001b[0m\u001b[0;34m\"Mohit\"\u001b[0m\u001b[0;34m)\u001b[0m\u001b[0;34m\u001b[0m\u001b[0;34m\u001b[0m\u001b[0m\n\u001b[0m",
      "\u001b[0;31mNameError\u001b[0m: name 'greeter' is not defined"
     ]
    }
   ],
   "source": [
    "greeter(\"Mohit\")"
   ]
  },
  {
   "cell_type": "code",
   "execution_count": 3,
   "id": "558e6d62",
   "metadata": {},
   "outputs": [
    {
     "data": {
      "text/plain": [
       "'Good day, Mohit'"
      ]
     },
     "execution_count": 3,
     "metadata": {},
     "output_type": "execute_result"
    }
   ],
   "source": [
    "pretty.greeter('Mohit')"
   ]
  },
  {
   "cell_type": "code",
   "execution_count": 4,
   "id": "e9d62082",
   "metadata": {},
   "outputs": [
    {
     "data": {
      "text/plain": [
       "63"
      ]
     },
     "execution_count": 4,
     "metadata": {},
     "output_type": "execute_result"
    }
   ],
   "source": [
    "pretty.alpha"
   ]
  },
  {
   "cell_type": "code",
   "execution_count": 4,
   "id": "43593acf",
   "metadata": {},
   "outputs": [],
   "source": [
    "# pretty.helperDFS()"
   ]
  },
  {
   "cell_type": "code",
   "execution_count": 5,
   "id": "8c3b05d4",
   "metadata": {},
   "outputs": [
    {
     "name": "stdout",
     "output_type": "stream",
     "text": [
      "__main__\n"
     ]
    }
   ],
   "source": [
    "print(__name__)"
   ]
  },
  {
   "cell_type": "code",
   "execution_count": null,
   "id": "af63389b",
   "metadata": {},
   "outputs": [],
   "source": []
  },
  {
   "cell_type": "code",
   "execution_count": 1,
   "id": "5c0e0a4c",
   "metadata": {},
   "outputs": [
    {
     "name": "stdout",
     "output_type": "stream",
     "text": [
      "Hello from Pretty module.!!!\n",
      "Name of the module: pretty\n"
     ]
    }
   ],
   "source": [
    "import pretty"
   ]
  },
  {
   "cell_type": "code",
   "execution_count": null,
   "id": "79291eac",
   "metadata": {},
   "outputs": [],
   "source": []
  },
  {
   "cell_type": "code",
   "execution_count": null,
   "id": "5f96dd1e",
   "metadata": {},
   "outputs": [],
   "source": []
  },
  {
   "cell_type": "markdown",
   "id": "d7494b92",
   "metadata": {},
   "source": [
    "## Package"
   ]
  },
  {
   "cell_type": "code",
   "execution_count": 4,
   "id": "43735cba",
   "metadata": {},
   "outputs": [],
   "source": [
    "from GAME.Player import skills"
   ]
  },
  {
   "cell_type": "code",
   "execution_count": 5,
   "id": "3da55409",
   "metadata": {},
   "outputs": [
    {
     "data": {
      "text/plain": [
       "'My super skills'"
      ]
     },
     "execution_count": 5,
     "metadata": {},
     "output_type": "execute_result"
    }
   ],
   "source": [
    "skills.my_skills()"
   ]
  },
  {
   "cell_type": "code",
   "execution_count": null,
   "id": "878ea08e",
   "metadata": {},
   "outputs": [],
   "source": []
  },
  {
   "cell_type": "markdown",
   "id": "0b9d1c8b",
   "metadata": {},
   "source": [
    "## real-world example"
   ]
  },
  {
   "cell_type": "code",
   "execution_count": 7,
   "id": "7d918a2e",
   "metadata": {},
   "outputs": [],
   "source": [
    "from sklearn.linear_model import LogisticRegression # class\n",
    "from sklearn.metrics import f1_score # function"
   ]
  },
  {
   "cell_type": "code",
   "execution_count": null,
   "id": "623b55c7",
   "metadata": {},
   "outputs": [],
   "source": []
  },
  {
   "cell_type": "code",
   "execution_count": null,
   "id": "cbb7382a",
   "metadata": {},
   "outputs": [],
   "source": []
  },
  {
   "cell_type": "markdown",
   "id": "5d9edcf2",
   "metadata": {},
   "source": [
    "# Exception"
   ]
  },
  {
   "cell_type": "code",
   "execution_count": 8,
   "id": "65928846",
   "metadata": {},
   "outputs": [
    {
     "ename": "NameError",
     "evalue": "name 'alpha' is not defined",
     "output_type": "error",
     "traceback": [
      "\u001b[0;31m---------------------------------------------------------------------------\u001b[0m",
      "\u001b[0;31mNameError\u001b[0m                                 Traceback (most recent call last)",
      "\u001b[0;32m<ipython-input-8-7b5db3b01685>\u001b[0m in \u001b[0;36m<module>\u001b[0;34m\u001b[0m\n\u001b[0;32m----> 1\u001b[0;31m \u001b[0mprint\u001b[0m\u001b[0;34m(\u001b[0m\u001b[0malpha\u001b[0m\u001b[0;34m)\u001b[0m\u001b[0;34m\u001b[0m\u001b[0;34m\u001b[0m\u001b[0m\n\u001b[0m",
      "\u001b[0;31mNameError\u001b[0m: name 'alpha' is not defined"
     ]
    }
   ],
   "source": [
    "print(alpha)"
   ]
  },
  {
   "cell_type": "code",
   "execution_count": 11,
   "id": "68163e60",
   "metadata": {},
   "outputs": [
    {
     "ename": "SyntaxError",
     "evalue": "unexpected EOF while parsing (<ipython-input-11-090a17394596>, line 2)",
     "output_type": "error",
     "traceback": [
      "\u001b[0;36m  File \u001b[0;32m\"<ipython-input-11-090a17394596>\"\u001b[0;36m, line \u001b[0;32m2\u001b[0m\n\u001b[0;31m    \u001b[0m\n\u001b[0m    ^\u001b[0m\n\u001b[0;31mSyntaxError\u001b[0m\u001b[0;31m:\u001b[0m unexpected EOF while parsing\n"
     ]
    }
   ],
   "source": [
    "if (5>2):\n",
    "    "
   ]
  },
  {
   "cell_type": "code",
   "execution_count": 12,
   "id": "14b64ffd",
   "metadata": {},
   "outputs": [
    {
     "ename": "ModuleNotFoundError",
     "evalue": "No module named 'hello'",
     "output_type": "error",
     "traceback": [
      "\u001b[0;31m---------------------------------------------------------------------------\u001b[0m",
      "\u001b[0;31mModuleNotFoundError\u001b[0m                       Traceback (most recent call last)",
      "\u001b[0;32m<ipython-input-12-f81fb083bdeb>\u001b[0m in \u001b[0;36m<module>\u001b[0;34m\u001b[0m\n\u001b[0;32m----> 1\u001b[0;31m \u001b[0;32mimport\u001b[0m \u001b[0mhello\u001b[0m\u001b[0;34m\u001b[0m\u001b[0;34m\u001b[0m\u001b[0m\n\u001b[0m",
      "\u001b[0;31mModuleNotFoundError\u001b[0m: No module named 'hello'"
     ]
    }
   ],
   "source": [
    "import hello"
   ]
  },
  {
   "cell_type": "code",
   "execution_count": 13,
   "id": "ccaa2d3e",
   "metadata": {},
   "outputs": [
    {
     "ename": "AttributeError",
     "evalue": "'str' object has no attribute 'sort'",
     "output_type": "error",
     "traceback": [
      "\u001b[0;31m---------------------------------------------------------------------------\u001b[0m",
      "\u001b[0;31mAttributeError\u001b[0m                            Traceback (most recent call last)",
      "\u001b[0;32m<ipython-input-13-832e4c5b632c>\u001b[0m in \u001b[0;36m<module>\u001b[0;34m\u001b[0m\n\u001b[0;32m----> 1\u001b[0;31m \u001b[0;34m\"data science\"\u001b[0m\u001b[0;34m.\u001b[0m\u001b[0msort\u001b[0m\u001b[0;34m(\u001b[0m\u001b[0;34m)\u001b[0m\u001b[0;34m\u001b[0m\u001b[0;34m\u001b[0m\u001b[0m\n\u001b[0m",
      "\u001b[0;31mAttributeError\u001b[0m: 'str' object has no attribute 'sort'"
     ]
    }
   ],
   "source": [
    "\"data science\".sort()"
   ]
  },
  {
   "cell_type": "code",
   "execution_count": 14,
   "id": "59421477",
   "metadata": {},
   "outputs": [
    {
     "ename": "TypeError",
     "evalue": "can only concatenate str (not \"int\") to str",
     "output_type": "error",
     "traceback": [
      "\u001b[0;31m---------------------------------------------------------------------------\u001b[0m",
      "\u001b[0;31mTypeError\u001b[0m                                 Traceback (most recent call last)",
      "\u001b[0;32m<ipython-input-14-48a28808618d>\u001b[0m in \u001b[0;36m<module>\u001b[0;34m\u001b[0m\n\u001b[0;32m----> 1\u001b[0;31m \u001b[0;34m\"Hello\"\u001b[0m \u001b[0;34m+\u001b[0m \u001b[0;36m1\u001b[0m\u001b[0;34m\u001b[0m\u001b[0;34m\u001b[0m\u001b[0m\n\u001b[0m",
      "\u001b[0;31mTypeError\u001b[0m: can only concatenate str (not \"int\") to str"
     ]
    }
   ],
   "source": [
    "\"Hello\" + 1"
   ]
  },
  {
   "cell_type": "code",
   "execution_count": 15,
   "id": "3104237e",
   "metadata": {},
   "outputs": [
    {
     "data": {
      "text/plain": [
       "['ArithmeticError',\n",
       " 'AssertionError',\n",
       " 'AttributeError',\n",
       " 'BaseException',\n",
       " 'BlockingIOError',\n",
       " 'BrokenPipeError',\n",
       " 'BufferError',\n",
       " 'BytesWarning',\n",
       " 'ChildProcessError',\n",
       " 'ConnectionAbortedError',\n",
       " 'ConnectionError',\n",
       " 'ConnectionRefusedError',\n",
       " 'ConnectionResetError',\n",
       " 'DeprecationWarning',\n",
       " 'EOFError',\n",
       " 'Ellipsis',\n",
       " 'EnvironmentError',\n",
       " 'Exception',\n",
       " 'False',\n",
       " 'FileExistsError',\n",
       " 'FileNotFoundError',\n",
       " 'FloatingPointError',\n",
       " 'FutureWarning',\n",
       " 'GeneratorExit',\n",
       " 'IOError',\n",
       " 'ImportError',\n",
       " 'ImportWarning',\n",
       " 'IndentationError',\n",
       " 'IndexError',\n",
       " 'InterruptedError',\n",
       " 'IsADirectoryError',\n",
       " 'KeyError',\n",
       " 'KeyboardInterrupt',\n",
       " 'LookupError',\n",
       " 'MemoryError',\n",
       " 'ModuleNotFoundError',\n",
       " 'NameError',\n",
       " 'None',\n",
       " 'NotADirectoryError',\n",
       " 'NotImplemented',\n",
       " 'NotImplementedError',\n",
       " 'OSError',\n",
       " 'OverflowError',\n",
       " 'PendingDeprecationWarning',\n",
       " 'PermissionError',\n",
       " 'ProcessLookupError',\n",
       " 'RecursionError',\n",
       " 'ReferenceError',\n",
       " 'ResourceWarning',\n",
       " 'RuntimeError',\n",
       " 'RuntimeWarning',\n",
       " 'StopAsyncIteration',\n",
       " 'StopIteration',\n",
       " 'SyntaxError',\n",
       " 'SyntaxWarning',\n",
       " 'SystemError',\n",
       " 'SystemExit',\n",
       " 'TabError',\n",
       " 'TimeoutError',\n",
       " 'True',\n",
       " 'TypeError',\n",
       " 'UnboundLocalError',\n",
       " 'UnicodeDecodeError',\n",
       " 'UnicodeEncodeError',\n",
       " 'UnicodeError',\n",
       " 'UnicodeTranslateError',\n",
       " 'UnicodeWarning',\n",
       " 'UserWarning',\n",
       " 'ValueError',\n",
       " 'Warning',\n",
       " 'ZeroDivisionError',\n",
       " '__IPYTHON__',\n",
       " '__build_class__',\n",
       " '__debug__',\n",
       " '__doc__',\n",
       " '__import__',\n",
       " '__loader__',\n",
       " '__name__',\n",
       " '__package__',\n",
       " '__spec__',\n",
       " 'abs',\n",
       " 'all',\n",
       " 'any',\n",
       " 'ascii',\n",
       " 'bin',\n",
       " 'bool',\n",
       " 'breakpoint',\n",
       " 'bytearray',\n",
       " 'bytes',\n",
       " 'callable',\n",
       " 'chr',\n",
       " 'classmethod',\n",
       " 'compile',\n",
       " 'complex',\n",
       " 'copyright',\n",
       " 'credits',\n",
       " 'delattr',\n",
       " 'dict',\n",
       " 'dir',\n",
       " 'display',\n",
       " 'divmod',\n",
       " 'enumerate',\n",
       " 'eval',\n",
       " 'exec',\n",
       " 'filter',\n",
       " 'float',\n",
       " 'format',\n",
       " 'frozenset',\n",
       " 'get_ipython',\n",
       " 'getattr',\n",
       " 'globals',\n",
       " 'hasattr',\n",
       " 'hash',\n",
       " 'help',\n",
       " 'hex',\n",
       " 'id',\n",
       " 'input',\n",
       " 'int',\n",
       " 'isinstance',\n",
       " 'issubclass',\n",
       " 'iter',\n",
       " 'len',\n",
       " 'license',\n",
       " 'list',\n",
       " 'locals',\n",
       " 'map',\n",
       " 'max',\n",
       " 'memoryview',\n",
       " 'min',\n",
       " 'next',\n",
       " 'object',\n",
       " 'oct',\n",
       " 'open',\n",
       " 'ord',\n",
       " 'pow',\n",
       " 'print',\n",
       " 'property',\n",
       " 'range',\n",
       " 'repr',\n",
       " 'reversed',\n",
       " 'round',\n",
       " 'set',\n",
       " 'setattr',\n",
       " 'slice',\n",
       " 'sorted',\n",
       " 'staticmethod',\n",
       " 'str',\n",
       " 'sum',\n",
       " 'super',\n",
       " 'tuple',\n",
       " 'type',\n",
       " 'vars',\n",
       " 'zip']"
      ]
     },
     "execution_count": 15,
     "metadata": {},
     "output_type": "execute_result"
    }
   ],
   "source": [
    "dir(__builtins__)"
   ]
  },
  {
   "cell_type": "code",
   "execution_count": 17,
   "id": "469f177f",
   "metadata": {},
   "outputs": [
    {
     "ename": "IndexError",
     "evalue": "list index out of range",
     "output_type": "error",
     "traceback": [
      "\u001b[0;31m---------------------------------------------------------------------------\u001b[0m",
      "\u001b[0;31mIndexError\u001b[0m                                Traceback (most recent call last)",
      "\u001b[0;32m<ipython-input-17-052e2db2800a>\u001b[0m in \u001b[0;36m<module>\u001b[0;34m\u001b[0m\n\u001b[0;32m----> 1\u001b[0;31m \u001b[0;34m[\u001b[0m\u001b[0;36m1\u001b[0m\u001b[0;34m,\u001b[0m\u001b[0;36m2\u001b[0m\u001b[0;34m,\u001b[0m\u001b[0;36m3\u001b[0m\u001b[0;34m,\u001b[0m\u001b[0;36m4\u001b[0m\u001b[0;34m]\u001b[0m\u001b[0;34m[\u001b[0m\u001b[0;36m6\u001b[0m\u001b[0;34m]\u001b[0m\u001b[0;34m\u001b[0m\u001b[0;34m\u001b[0m\u001b[0m\n\u001b[0m",
      "\u001b[0;31mIndexError\u001b[0m: list index out of range"
     ]
    }
   ],
   "source": [
    "[1,2,3,4][6]"
   ]
  },
  {
   "cell_type": "code",
   "execution_count": null,
   "id": "c99660cf",
   "metadata": {},
   "outputs": [],
   "source": []
  },
  {
   "cell_type": "code",
   "execution_count": 27,
   "id": "eb14f089",
   "metadata": {},
   "outputs": [
    {
     "name": "stdout",
     "output_type": "stream",
     "text": [
      "handled error successfuly\n",
      "There are 100 more lines...\n"
     ]
    }
   ],
   "source": [
    "a = 5 \n",
    "b = 0\n",
    "\n",
    "try:\n",
    "    c = a/b   \n",
    "    print(c)\n",
    "        \n",
    "\n",
    "except:\n",
    "    print(\"handled error successfuly\")\n",
    "\n",
    "print(\"There are 100 more lines...\")"
   ]
  },
  {
   "cell_type": "code",
   "execution_count": null,
   "id": "1d2ac07e",
   "metadata": {},
   "outputs": [],
   "source": []
  },
  {
   "cell_type": "code",
   "execution_count": 34,
   "id": "caf38587",
   "metadata": {},
   "outputs": [
    {
     "name": "stdout",
     "output_type": "stream",
     "text": [
      "Current ele: 2\n",
      "Result: 2.5\n",
      "--------------------------------------------------\n",
      "Current ele: 0\n",
      "Error caused: division by zero\n",
      "<class 'ZeroDivisionError'>\n",
      "--------------------------------------------------\n",
      "Current ele: hello\n",
      "Error caused: unsupported operand type(s) for /: 'int' and 'str'\n",
      "<class 'TypeError'>\n",
      "--------------------------------------------------\n",
      "Current ele: None\n",
      "Error caused: unsupported operand type(s) for /: 'int' and 'NoneType'\n",
      "<class 'TypeError'>\n",
      "--------------------------------------------------\n",
      "There are 100 more lines...\n",
      "There are 1000 more lines...\n"
     ]
    }
   ],
   "source": [
    "import sys\n",
    "\n",
    "lst = [2, 0, 'hello', None]\n",
    "\n",
    "for ele in lst:\n",
    "    try:\n",
    "        print(\"Current ele:\", ele)\n",
    "        res = 5/ele\n",
    "        print(\"Result:\", res)\n",
    "    except Exception as e:\n",
    "        print(\"Error caused:\", e)\n",
    "        print(sys.exc_info()[0])\n",
    "    print(\"-\"*50)\n",
    "    \n",
    "\n",
    "print(\"There are 100 more lines...\")\n",
    "print(\"There are 1000 more lines...\")"
   ]
  },
  {
   "cell_type": "code",
   "execution_count": null,
   "id": "0fb17f87",
   "metadata": {},
   "outputs": [],
   "source": []
  },
  {
   "cell_type": "markdown",
   "id": "64ce239d",
   "metadata": {},
   "source": [
    "### Catching specific errors"
   ]
  },
  {
   "cell_type": "code",
   "execution_count": 44,
   "id": "746105da",
   "metadata": {},
   "outputs": [
    {
     "name": "stdout",
     "output_type": "stream",
     "text": [
      "Current ele: 2\n",
      "Result: 2.5\n",
      "Wrong value given. :( math domain error\n",
      "--------------------------------------------------\n",
      "Current ele: 0\n",
      "please dont divide by 0..!!!!!!!!\n",
      "--------------------------------------------------\n",
      "Current ele: hello\n",
      "Dont give wrong data type for operation.!!! unsupported operand type(s) for /: 'int' and 'str'\n",
      "--------------------------------------------------\n",
      "Current ele: None\n",
      "Dont give wrong data type for operation.!!! unsupported operand type(s) for /: 'int' and 'NoneType'\n",
      "--------------------------------------------------\n",
      "There are 100 more lines...\n",
      "There are 1000 more lines...\n"
     ]
    }
   ],
   "source": [
    "import sys\n",
    "import math\n",
    "\n",
    "lst = [2, 0, 'hello', None]\n",
    "\n",
    "for ele in lst:\n",
    "    try:\n",
    "        print(\"Current ele:\", ele)\n",
    "        res = 5/ele\n",
    "        print(\"Result:\", res)\n",
    "        \n",
    "        math.sqrt(-1)\n",
    "        \n",
    "    except ZeroDivisionError as ze:\n",
    "        print(\"please dont divide by 0..!!!!!!!!\")\n",
    "    except TypeError as te:\n",
    "        print(\"Dont give wrong data type for operation.!!!\", te)\n",
    "    except ValueError as ve:\n",
    "        print(\"Wrong value given. :(\", ve)\n",
    "    except Exception as e:\n",
    "        print(\"Error caused:\", e)\n",
    "        print(sys.exc_info()[0])\n",
    "    print(\"-\"*50)\n",
    "    \n",
    "\n",
    "print(\"There are 100 more lines...\")\n",
    "print(\"There are 1000 more lines...\")"
   ]
  },
  {
   "cell_type": "code",
   "execution_count": null,
   "id": "504a7395",
   "metadata": {},
   "outputs": [],
   "source": []
  },
  {
   "cell_type": "markdown",
   "id": "9e8ce52b",
   "metadata": {},
   "source": [
    "## Finally and else"
   ]
  },
  {
   "cell_type": "code",
   "execution_count": 53,
   "id": "f906d58b",
   "metadata": {},
   "outputs": [
    {
     "name": "stdout",
     "output_type": "stream",
     "text": [
      "2.5\n",
      "No exception occured...\n",
      "I will always execute.\n"
     ]
    }
   ],
   "source": [
    "try:\n",
    "    ans = 5/2\n",
    "    print(ans)\n",
    "except Exception as e:\n",
    "    print(\"Error casused:\", e)\n",
    "else:\n",
    "    print(\"No exception occured...\")\n",
    "finally:\n",
    "    # db.close()\n",
    "    # release the resources.\n",
    "    print(\"I will always execute.\")"
   ]
  },
  {
   "cell_type": "code",
   "execution_count": null,
   "id": "b2b00218",
   "metadata": {},
   "outputs": [],
   "source": []
  }
 ],
 "metadata": {
  "kernelspec": {
   "display_name": "Python 3 (ipykernel)",
   "language": "python",
   "name": "python3"
  },
  "language_info": {
   "codemirror_mode": {
    "name": "ipython",
    "version": 3
   },
   "file_extension": ".py",
   "mimetype": "text/x-python",
   "name": "python",
   "nbconvert_exporter": "python",
   "pygments_lexer": "ipython3",
   "version": "3.10.4"
  }
 },
 "nbformat": 4,
 "nbformat_minor": 5
}
